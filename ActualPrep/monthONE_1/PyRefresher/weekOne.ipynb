{
 "cells": [
  {
   "cell_type": "markdown",
   "id": "d01e55aa",
   "metadata": {},
   "source": [
    "### **Day 1: Advanced Python Core**\n",
    "\n",
    "**Topics:**\n",
    "\n",
    "* OOP Refresher (Inheritance, `super()`, MRO, mixins, `__slots__`)\n",
    "* Decorators (function, class decorators, `functools.wraps`)\n",
    "* Context Managers (`with`, `__enter__`, `__exit__`, `contextlib`)\n",
    "* Typing & Annotations (`typing`, `mypy`, `TypedDict`, `Protocol`)\n",
    "\n",
    "**Practice:**\n",
    "\n",
    "* Build a `ResourceHandler` class using a context manager for file/database mocks.\n",
    "* Implement a decorator for execution timing.\n",
    "* Write a small project using `Protocol` for structural typing."
   ]
  },
  {
   "cell_type": "markdown",
   "id": "2a40c169",
   "metadata": {},
   "source": [
    "## Class & Inheritance"
   ]
  },
  {
   "cell_type": "code",
   "execution_count": null,
   "id": "7647b065",
   "metadata": {},
   "outputs": [],
   "source": [
    "class Employee:\n",
    "    \n",
    "    baseSalary : float = 20000.0\n",
    "    def __init__(self,firstName : str,lastName : str,phNo : str,companyName : str,ext = \".com\"):\n",
    "        self.firstName = firstName\n",
    "        self.lastName = lastName\n",
    "        self.fullName : str = firstName + \" \" + lastName\n",
    "        self.phNo : str = phNo\n",
    "        self.email : str = firstName.lower()+\".\"+lastName.lower()+\"@\"+companyName.lower()+ext\n",
    "        self.companyName :str = companyName\n",
    "        \n",
    "    def updateLastName(self,newLastName : str):\n",
    "        fullName : list = self.fullName.split(\" \")\n",
    "        fullName.pop()\n",
    "        fullName.append(newLastName.title())\n",
    "        self.fullName = fullName[0] + \" \" + fullName[1]\n",
    "        return self.fullName\n",
    "    \n",
    "    def updatePhNo(self,newPhno:str):\n",
    "        \n",
    "        self.phNo = newPhno\n",
    "        return self.phNo"
   ]
  },
  {
   "cell_type": "code",
   "execution_count": 44,
   "id": "fee908fa",
   "metadata": {},
   "outputs": [
    {
     "name": "stdout",
     "output_type": "stream",
     "text": [
      "Info of Shane Dawson : {'fullName': 'Shane Dawson', 'phNo': '2123452', 'email': 'shane.dawson@kore.ai', 'companyName': 'kore'}\n",
      "Updating Shane Dawson's Last name ->  Shane Fuller\n",
      "Updating Shane Fuller's Phone Number from 2123452 ->  2123112\n",
      "Updated info of Shane Fuller : {'fullName': 'Shane Fuller', 'phNo': '2123112', 'email': 'shane.dawson@kore.ai', 'companyName': 'kore'}\n"
     ]
    }
   ],
   "source": [
    "emp1 : Employee = Employee(fristName=\"Shane\",lastName='Dawson',phNo='2123452',companyName='kore',ext=\".ai\")\n",
    "print(f\"Info of {emp1.fullName} :\",emp1.__dict__)\n",
    "print(f\"Updating {emp1.fullName}'s Last name -> \",emp1.updateLastName(\"fuller\"))\n",
    "print(f\"Updating {emp1.fullName}'s Phone Number from {emp1.phNo} -> \",emp1.updatePhNo(\"2123112\"))\n",
    "print(f\"Updated info of {emp1.fullName} :\",emp1.__dict__)"
   ]
  },
  {
   "cell_type": "code",
   "execution_count": null,
   "id": "81955bb5",
   "metadata": {},
   "outputs": [],
   "source": [
    "class Developer(Employee):\n",
    "    \n",
    "    totalComp = Employee.baseSalary + 10000\n",
    "    bonusComp = 10000\n",
    "    \n",
    "    techStack : list = []\n",
    "    def __init__(self,progLanguage : str, fristName : str,lastName : str,phNo : str,companyName : str,ext = \".com\"):\n",
    "        super().__init__(fristName,lastName,phNo,companyName,ext)\n",
    "        \n",
    "        self.progLanguage = progLanguage\n",
    "        self.techStack.append(self.progLanguage)\n",
    "    def addTechStack(self,techStack:list):\n",
    "        self.techStack = list(set(self.techStack + techStack))\n",
    "        return self.techStack\n",
    "\n",
    "    def getCompensation(self):\n",
    "        return f\"Base Compensation : {Employee.baseSalary} \\nDeveloper Bonus : {self.bonusComp} \\nTotal Compensation : {self.totalComp}\"\n",
    "    \n",
    "    def __str__(self):\n",
    "        return \"this is a dunder method we can define how to represent a class here so that other would know how to use our class and what can we use\"\n",
    "    "
   ]
  },
  {
   "cell_type": "code",
   "execution_count": 71,
   "id": "f5b5d3bd",
   "metadata": {},
   "outputs": [
    {
     "name": "stdout",
     "output_type": "stream",
     "text": [
      "Info of Shane Dawson : {'fullName': 'Shane Dawson', 'phNo': '2123452', 'email': 'shane.dawson@kore.ai', 'companyName': 'kore', 'progLanguage': 'Python'}\n",
      "Compensation Info :\n",
      " Base Compensation : 20000.0 \n",
      "Developer Bonus : 10000 \n",
      "Total Compensation : 30000.0\n",
      "Adding additional tecstack for Shane Dawson: ['Agents', 'Python', 'RAG']\n"
     ]
    }
   ],
   "source": [
    "dev1 : Developer = Developer(fristName=\"Shane\",lastName='Dawson',phNo='2123452',companyName='kore',ext=\".ai\",progLanguage=\"Python\")\n",
    "print(f\"Info of {dev1.fullName} :\",dev1.__dict__)\n",
    "print(\"Compensation Info :\\n\",dev1.getCompensation())\n",
    "\n",
    "print(f\"Adding additional tecstack for {dev1.fullName}:\", dev1.addTechStack(['Agents','RAG','Python']))"
   ]
  },
  {
   "cell_type": "markdown",
   "id": "61b9ad77",
   "metadata": {},
   "source": [
    "### Getter and Setter"
   ]
  },
  {
   "cell_type": "code",
   "execution_count": null,
   "id": "a6fc3a6e",
   "metadata": {},
   "outputs": [
    {
     "data": {
      "text/plain": [
       "'To solve this issue we can use Setter this will automatically update the email when the last name / first name / full name got updated'"
      ]
     },
     "execution_count": 73,
     "metadata": {},
     "output_type": "execute_result"
    }
   ],
   "source": [
    "\"\"\"class Employee:\n",
    "    \n",
    "    baseSalary : float = 20000.0\n",
    "    def __init__(self,firstName : str,lastName : str,phNo : str,companyName : str,ext = \".com\"):\n",
    "        self.firstName = firstName\n",
    "        self.lastName = lastName\n",
    "        self.fullName : str = firstName + \" \" + lastName\n",
    "        self.phNo : str = phNo\n",
    "        self.email : str = firstName.lower()+\".\"+lastName.lower()+\"@\"+companyName.lower()+ext\n",
    "        self.companyName :str = companyName\n",
    "        \n",
    "    def updateLastName(self,newLastName : str):\n",
    "        fullName : list = self.fullName.split(\" \")\n",
    "        fullName.pop()\n",
    "        fullName.append(newLastName.title())\n",
    "        self.fullName = fullName[0] + \" \" + fullName[1]\n",
    "        return self.fullName\n",
    "    \n",
    "    def updatePhNo(self,newPhno:str):\n",
    "        \n",
    "        self.phNo = newPhno\n",
    "        return self.phNo \"\"\"\n",
    "        \n",
    "\"\"\"The issue with this code is every time i change the last name the email is never got updated it has the old last name\"\"\"\n",
    "\n",
    "\"\"\"Example Issue\n",
    "\n",
    "Info of Shane Dawson : {'fullName': 'Shane Dawson', 'phNo': '2123452', 'email': 'shane.dawson@kore.ai', 'companyName': 'kore'}\n",
    "                                                                                 --------------------\n",
    "Updating Shane Dawson's Last name ->  Shane Fuller   (last name changed)\n",
    "Updating Shane Fuller's Phone Number from 2123452 ->  2123112\n",
    "Updated info of Shane Fuller : {'fullName': 'Shane Fuller', 'phNo': '2123112', 'email': 'shane.dawson@kore.ai', 'companyName': 'kore'}\n",
    "                                                                                         --------------------                       \"\"\"\n",
    "                                                                                         \n",
    "\"\"\"To solve this issue we can use Setter this will automatically update the email when the last name / first name / full name got updated\"\"\""
   ]
  },
  {
   "cell_type": "code",
   "execution_count": 103,
   "id": "38697bba",
   "metadata": {},
   "outputs": [],
   "source": [
    "class Employee:\n",
    "    \n",
    "    baseSalary : float = 20000.0\n",
    "    def __init__(self,firstName : str,lastName : str,phNo : str,companyName : str,ext = \".com\"):\n",
    "        self.firstName = firstName.title()\n",
    "        self.lastName = lastName.title()\n",
    "        self.phNo : str = phNo\n",
    "        self.companyName :str = companyName\n",
    "        self.ext : str = ext\n",
    "    \n",
    "    @property\n",
    "    def fullName(self):\n",
    "        return self.firstName.title() + \" \" + self.lastName.title()\n",
    "    \n",
    "    @property\n",
    "    def email(self):\n",
    "        return self.firstName.lower()+\".\"+self.lastName.lower()+\"@\"+self.companyName.lower()+self.ext\n",
    "\n",
    "    @fullName.setter\n",
    "    def fullName(self,name : str):\n",
    "        self.firstName,self.lastName = name.split(\" \")\n",
    "    \n",
    "    def updatePhNo(self,newPhno:str):\n",
    "        \n",
    "        self.phNo = newPhno\n",
    "        return self.phNo"
   ]
  },
  {
   "cell_type": "code",
   "execution_count": 108,
   "id": "520c4f96",
   "metadata": {},
   "outputs": [
    {
     "name": "stdout",
     "output_type": "stream",
     "text": [
      "Info of Shane Dawson : {'firstName': 'Shane', 'lastName': 'Dawson', 'phNo': '2123452', 'companyName': 'kore', 'ext': '.ai'}\n",
      "Updating Shane Dawson's Last name -> Shane Fuller\n",
      "Updating Shane Fuller's fullname -> Jhon Doe\n",
      "Updated info : {'firstName': 'Jhon', 'lastName': 'Doe', 'phNo': '2123452', 'companyName': 'kore', 'ext': '.ai'}\n",
      "Updated Jhon Doe's email is : jhon.doe@kore.ai\n"
     ]
    }
   ],
   "source": [
    "emp1 : Employee = Employee(firstName=\"Shane\",lastName='Dawson',phNo='2123452',companyName='kore',ext=\".ai\")\n",
    "\n",
    "print(f\"Info of {emp1.fullName} :\",emp1.__dict__)\n",
    "print(f\"Updating {emp1.fullName}'s Last name -> \",end=\"\")\n",
    "emp1.lastName = \"fuller\"\n",
    "print(emp1.fullName)\n",
    "print(f\"Updating {emp1.fullName}'s fullname -> \",end=\"\")\n",
    "emp1.fullName = \"Jhon Doe\"\n",
    "print(emp1.fullName)\n",
    "print(f\"Updated info :\",emp1.__dict__)\n",
    "print(f\"Updated {emp1.fullName}'s email is : {emp1.email}\")"
   ]
  },
  {
   "cell_type": "markdown",
   "id": "e65c1ba3",
   "metadata": {},
   "source": [
    "### *args and **kwargs"
   ]
  },
  {
   "cell_type": "code",
   "execution_count": 9,
   "id": "10f17c3e",
   "metadata": {},
   "outputs": [
    {
     "name": "stdout",
     "output_type": "stream",
     "text": [
      "Size of the pizza is 16\n",
      "Ingredients : cheese sause peproni basil \n",
      "Details : \n",
      "* cookingInfo -> More sause\n",
      "* delivery -> True\n",
      "* time -> ASAP\n"
     ]
    }
   ],
   "source": [
    "def pizza(size,*args,**kwargs):\n",
    "    print(f\"Size of the pizza is {size}\")\n",
    "    print(\"Ingredients : \",end=\"\")\n",
    "    [print(toping,end=\" \") for toping in args]\n",
    "    print(\"\\nDetails : \")\n",
    "    [print(f\"* {key} -> {value}\") for key,value in kwargs.items()]\n",
    "    \n",
    "pizza('16','cheese','sause','peproni','basil',cookingInfo=\"More sause\",delivery=True,time='ASAP')"
   ]
  },
  {
   "cell_type": "markdown",
   "id": "6a53c6d0",
   "metadata": {},
   "source": [
    "### Decorator"
   ]
  },
  {
   "cell_type": "code",
   "execution_count": null,
   "id": "8aad898c",
   "metadata": {},
   "outputs": [
    {
     "name": "stdout",
     "output_type": "stream",
     "text": [
      "A + B = 4\n",
      "Function function1 ran in 1.0130021572113037\n",
      "A x B = 4\n",
      "Function function2 ran in 1.0090477466583252\n"
     ]
    }
   ],
   "source": [
    "import time\n",
    "\n",
    "def timeit(func,*arg):\n",
    "    st = time.time()\n",
    "    func(*arg)\n",
    "    ed = time.time()\n",
    "    print(f\"Function {func.__name__} ran in {ed-st}\")\n",
    "    return timeit\n",
    "\n",
    "@timeit\n",
    "def function1(a=2,b=2):\n",
    "    time.sleep(1)\n",
    "    print(f\"A + B = {a+b}\")\n",
    "@timeit\n",
    "def function2(a=2,b=2):\n",
    "    time.sleep(1)\n",
    "    print(f\"A x B = {a*b}\")\n",
    "    \n",
    "\n",
    "# timeit(function1,2,2)\n",
    "# timeit(function2,2,2)"
   ]
  },
  {
   "cell_type": "markdown",
   "id": "c0d3c9d4",
   "metadata": {},
   "source": [
    "---"
   ]
  },
  {
   "cell_type": "markdown",
   "id": "b6363d22",
   "metadata": {},
   "source": [
    "\n",
    "> ## Practice"
   ]
  },
  {
   "cell_type": "markdown",
   "id": "964e22d3",
   "metadata": {},
   "source": [
    "#### __one implementation of all 3 practice steps\n",
    "---"
   ]
  },
  {
   "cell_type": "code",
   "execution_count": 83,
   "id": "6cbddea7",
   "metadata": {},
   "outputs": [],
   "source": [
    "### Protocol \n",
    "\n",
    "# ... (elipse) common with protocols \n",
    "\n",
    "# protocols should clearly state dtypes recieved and sent\n",
    "\n",
    "# fileName is defined as a property instead of a variable this Enforces read-only access \n",
    "# (best practice) so no one can modify file name in between\n",
    "from typing import Protocol\n",
    "\n",
    "class NoteStorage(Protocol):\n",
    "    \n",
    "    @property\n",
    "    def fileName(self) -> str:\n",
    "        ...\n",
    "    \n",
    "    def read(self) -> str:\n",
    "        ...\n",
    "        \n",
    "    def write(self,data:str) -> None:\n",
    "        ..."
   ]
  },
  {
   "cell_type": "code",
   "execution_count": 84,
   "id": "d2f04a98",
   "metadata": {},
   "outputs": [],
   "source": [
    "### Timer for read,write,__open__,__close__\n",
    "import time \n",
    "\n",
    "def timeit(func):\n",
    "    def wrapper(*args,**kwargs):\n",
    "        st : float= time.perf_counter() #perf_counter is a more accurate version of time.time()\n",
    "        op = func(*args, **kwargs)\n",
    "        ed : float = time.perf_counter()\n",
    "        print(f\"Time taken by {func.__name__} is {ed-st : .4f}\")\n",
    "        return op\n",
    "    return wrapper"
   ]
  },
  {
   "cell_type": "code",
   "execution_count": 130,
   "id": "02d51c92",
   "metadata": {},
   "outputs": [],
   "source": [
    "### concrete implementation of NoteManager-Loger\n",
    "\n",
    "from datetime import datetime\n",
    "\n",
    "class NoteManager:\n",
    "    def __init__(self,fileName):\n",
    "        self._fileName = fileName\n",
    "\n",
    "    @property\n",
    "    def fileName(self):\n",
    "        return self._fileName\n",
    "    \n",
    "    @timeit\n",
    "    def __enter__(self):\n",
    "        print(f\"Opening {self.fileName}\")\n",
    "        self._fileHandler = open(self.fileName,'a+')\n",
    "        return self\n",
    "    \n",
    "    @timeit\n",
    "    def __exit__(self,exc_type, exc_val, exc_tb) -> None:\n",
    "        print(f\"Closing {self.fileName}\")\n",
    "        self._fileHandler.close()\n",
    "    \n",
    "    @timeit\n",
    "    def read(self):\n",
    "        self._fileHandler.seek(0)\n",
    "        return self._fileHandler.read()\n",
    "    \n",
    "    @timeit\n",
    "    def write(self,data:str = \"\"):\n",
    "        \n",
    "        now = datetime.now()\n",
    "        formatted = now.strftime(\"%d/%m/%Y %H:%M\")\n",
    "        try:\n",
    "            self._fileHandler.write('\\n' + formatted + \": \" + self._data)\n",
    "        except:\n",
    "            if data:\n",
    "                self._fileHandler.write('\\n' + formatted + \": \" + data)\n",
    "            else: \n",
    "                raise Exception(\"Data is missing. Trigger getInput() or pass it.\")\n",
    "                \n",
    "        self._fileHandler.flush()\n",
    "        return self\n",
    "    \n",
    "    @timeit\n",
    "    def getInput(self):\n",
    "        self._data = input(\"Add a new note\")"
   ]
  },
  {
   "cell_type": "code",
   "execution_count": 132,
   "id": "13061b81",
   "metadata": {},
   "outputs": [
    {
     "name": "stdout",
     "output_type": "stream",
     "text": [
      "Opening note.txt\n",
      "Time taken by __enter__ is  0.0067\n",
      "Performing actions \n",
      "\n",
      "Reading data\n",
      "Time taken by read is  0.0001\n",
      "Data that we read :\n",
      "Notes:\n",
      "29/07/2025 14:22: some  more notes\n",
      "29/07/2025 14:23: few more notes\n",
      "29/07/2025 14:32: Some more info\n",
      "29/07/2025 14:34: some more more notes\n",
      "29/07/2025 14:34: more more notes\n",
      "\n",
      "Getting data and writing:\n"
     ]
    },
    {
     "name": "stdout",
     "output_type": "stream",
     "text": [
      "Time taken by getInput is  6.1291\n",
      "Time taken by write is  0.0003\n",
      "Final notes data:\n",
      "Time taken by read is  0.0004\n",
      "Notes:\n",
      "29/07/2025 14:22: some  more notes\n",
      "29/07/2025 14:23: few more notes\n",
      "29/07/2025 14:32: Some more info\n",
      "29/07/2025 14:34: some more more notes\n",
      "29/07/2025 14:34: more more notes\n",
      "29/07/2025 14:53: more and more comments\n",
      "\n",
      "Closing note.txt\n",
      "Time taken by __exit__ is  0.0003\n"
     ]
    }
   ],
   "source": [
    "manager : NoteStorage = NoteManager(\"note.txt\")\n",
    "with  manager as note:\n",
    "    \n",
    "    print(\"Performing actions \\n\")\n",
    "    print(\"Reading data\")\n",
    "    data = note.read()\n",
    "    print(\"Data that we read :\\n\" + data + \"\\n\")\n",
    "    \n",
    "    print(\"Getting data and writing:\")\n",
    "    \n",
    "    note.getInput()\n",
    "    note.write()\n",
    "    \n",
    "    print(\"Final notes data:\")\n",
    "    data = note.read()\n",
    "    print(data + \"\\n\")"
   ]
  },
  {
   "cell_type": "markdown",
   "id": "19e97a27",
   "metadata": {},
   "source": [
    "---\n",
    "\n",
    "### **Day 2: Functional Python & Code Compactness**\n",
    "\n",
    "**Topics:**\n",
    "\n",
    "* Comprehensions (nested, dict, set, generator)\n",
    "* `lambda`, `map`, `filter`, `reduce`\n",
    "* `itertools` & `functools` (e.g., `partial`, `lru_cache`)\n",
    "\n",
    "**Practice:**\n",
    "\n",
    "* Write one-liner data transformations with `map/filter`.\n",
    "* Use `itertools.groupby` for grouped summarization.\n",
    "* Profile & compare loop vs comprehension performance using `timeit`.\n",
    "\n",
    "---"
   ]
  },
  {
   "cell_type": "markdown",
   "id": "69019d12",
   "metadata": {},
   "source": [
    "### Comprehensions (nested, dict, set, generator)"
   ]
  },
  {
   "cell_type": "code",
   "execution_count": null,
   "id": "fa287955",
   "metadata": {},
   "outputs": [],
   "source": [
    "squares = [x**2 for x in range(1,10)]\n",
    "\n",
    "squares_dict = {x: x**2 for x in range(1,10)}\n",
    "\n",
    "unique_lengths = {len(word) for word in [\"apple\", \"banana\", \"pear\", \"apple\"]}\n",
    "\n",
    "matrix = [[j for j in range(0,i)] for i in range(0,5)]\n",
    "\n",
    "generator = (x**2 for x in range(1,10))\n",
    "\n",
    "print(next(generator))"
   ]
  },
  {
   "cell_type": "markdown",
   "id": "3cd5ff56",
   "metadata": {},
   "source": [
    "#### Lambda functions, map, reduce, filter"
   ]
  },
  {
   "cell_type": "code",
   "execution_count": 171,
   "id": "dcfa4bb3",
   "metadata": {},
   "outputs": [
    {
     "name": "stdout",
     "output_type": "stream",
     "text": [
      "[1, 4, 9, 16, 25]\n",
      "[2, 4]\n",
      "120\n"
     ]
    }
   ],
   "source": [
    "nums = [1,2,3,4,5]\n",
    "squares = map(lambda x :x**2 ,nums)\n",
    "print(list(squares))\n",
    "\n",
    "even_nums = filter(lambda x : x%2 == 0,nums)\n",
    "print(list(even_nums))\n",
    "\n",
    "# list -> single value is reduce\n",
    "from functools import reduce\n",
    "product = reduce(lambda x,y : x*y , nums)\n",
    "print(product)"
   ]
  },
  {
   "cell_type": "markdown",
   "id": "6b5387a9",
   "metadata": {},
   "source": [
    "#### Itertools"
   ]
  },
  {
   "cell_type": "code",
   "execution_count": 30,
   "id": "b8e94868",
   "metadata": {},
   "outputs": [
    {
     "name": "stdout",
     "output_type": "stream",
     "text": [
      "5 6 7 8 9 a b c   ['Rahul', 'Rahul']\n",
      "[1, 2, 3, 4, 5, 6]\n",
      "[(1, 2, 3), (1, 2, 4), (1, 2, 5), (1, 2, 6), (1, 2, 7), (1, 3, 4), (1, 3, 5), (1, 3, 6), (1, 3, 7), (1, 4, 5), (1, 4, 6), (1, 4, 7), (1, 5, 6), (1, 5, 7), (1, 6, 7), (2, 3, 4), (2, 3, 5), (2, 3, 6), (2, 3, 7), (2, 4, 5), (2, 4, 6), (2, 4, 7), (2, 5, 6), (2, 5, 7), (2, 6, 7), (3, 4, 5), (3, 4, 6), (3, 4, 7), (3, 5, 6), (3, 5, 7), (3, 6, 7), (4, 5, 6), (4, 5, 7), (4, 6, 7), (5, 6, 7)]\n",
      "[('a', 'b'), ('a', 'c'), ('a', 'd'), ('b', 'a'), ('b', 'c'), ('b', 'd'), ('c', 'a'), ('c', 'b'), ('c', 'd'), ('d', 'a'), ('d', 'b'), ('d', 'c')]\n",
      "[(1, 'a'), (1, 'b'), (2, 'a'), (2, 'b')]\n",
      "[2, 4, 6]\n",
      "[(1, 'a'), (2, 'NA')]\n"
     ]
    }
   ],
   "source": [
    "# count\n",
    "from itertools import *\n",
    "\n",
    "for i in count(5,1):\n",
    "    print(i,end=\" \")\n",
    "    i+=1\n",
    "    if i >= 10:\n",
    "        break\n",
    "\n",
    "eg = cycle(['a','b','c'])\n",
    "for _ in range(3):\n",
    "    print(next(eg),end=\" \")\n",
    "\n",
    "print(\" \" ,list(repeat('Rahul',2)))\n",
    "\n",
    "print(list(chain([1,2,3],[4,5,6])))\n",
    "\n",
    "print(list(combinations([1,2,3,4,5,6,7],3)))\n",
    "\n",
    "print(list(permutations('abcd',2)))\n",
    "\n",
    "print(list(product([1,2],['a','b'])))\n",
    "\n",
    "print(list(islice(range(10),2,8,2)))\n",
    "\n",
    "print(list(zip_longest([1,2],['a'],fillvalue='NA')))"
   ]
  },
  {
   "cell_type": "markdown",
   "id": "60fd5e41",
   "metadata": {},
   "source": [
    "#### Functools"
   ]
  },
  {
   "cell_type": "code",
   "execution_count": null,
   "id": "4179eac4",
   "metadata": {},
   "outputs": [
    {
     "name": "stdout",
     "output_type": "stream",
     "text": [
      "25\n",
      "Ran some_func in : 1.0077288150787354\n",
      "Ran some_func again in :  0.0000000000000000\n"
     ]
    }
   ],
   "source": [
    "from functools import *\n",
    "import time\n",
    "\n",
    "# power\n",
    "def power(base,exp):\n",
    "    return base ** exp\n",
    "\n",
    "square = partial(power,exp=2)\n",
    "print(square(5))\n",
    "\n",
    "# Cachee\n",
    "@lru_cache\n",
    "def some_func(value):\n",
    "    value = value ** 2 + value + 2 * value * value + 2 * 5\n",
    "    time.sleep(1)\n",
    "    return value\n",
    "\n",
    "st = time.time()\n",
    "value = some_func(12345)\n",
    "ed = time.time()\n",
    "\n",
    "print(\"Ran some_func in :\",ed-st)\n",
    "\n",
    "st = time.time()\n",
    "value = some_func(12345)\n",
    "ed = time.time()\n",
    "\n",
    "print(\"Ran some_func again in :\",f'{ed-st : .16f}')"
   ]
  },
  {
   "cell_type": "markdown",
   "id": "d8202b9e",
   "metadata": {},
   "source": [
    "\n",
    "> ## Practice"
   ]
  },
  {
   "cell_type": "code",
   "execution_count": null,
   "id": "e1336651",
   "metadata": {},
   "outputs": [],
   "source": []
  },
  {
   "cell_type": "markdown",
   "id": "c7a5b79d",
   "metadata": {},
   "source": [
    "---\n",
    "\n",
    "### **Day 3: Robustness & File Operations**\n",
    "\n",
    "**Topics:**\n",
    "\n",
    "* Exception handling best practices (`try/except/else/finally`, custom exceptions)\n",
    "* Logging (`logging.config`, rotating logs, log levels)\n",
    "* File I/O (`with`, `os`, `pathlib`)\n",
    "* Config management (`json`, `yaml`, `dotenv`)\n",
    "\n",
    "**Practice:**\n",
    "\n",
    "* Build a logging wrapper with custom formats.\n",
    "* Simulate error handling in a data pipeline.\n",
    "* Parse a config YAML & write to JSON.\n",
    "\n",
    "---"
   ]
  },
  {
   "cell_type": "code",
   "execution_count": null,
   "id": "727bb067",
   "metadata": {},
   "outputs": [],
   "source": []
  },
  {
   "cell_type": "markdown",
   "id": "9e5a0836",
   "metadata": {},
   "source": [
    "\n",
    "> ## Practice"
   ]
  },
  {
   "cell_type": "code",
   "execution_count": null,
   "id": "224fea5a",
   "metadata": {},
   "outputs": [],
   "source": []
  },
  {
   "cell_type": "markdown",
   "id": "3ed4b6b0",
   "metadata": {},
   "source": [
    "---\n",
    "\n",
    "### **Day 4: Data Handling (Pandas & NumPy Intensive)**\n",
    "\n",
    "**Topics:**\n",
    "\n",
    "* NumPy: `ndarray`, broadcasting, vectorized ops, `np.where`, `np.select`\n",
    "* Pandas: `merge`, `groupby`, `pivot`, `apply`\n",
    "* I/O: CSV, Parquet, Excel\n",
    "* Handling missing data, datetimes, categoricals\n",
    "\n",
    "**Practice:**\n",
    "\n",
    "* Create a synthetic dataset (`np.random`).\n",
    "* Run typical `ETL` steps: Clean → Transform → Aggregate.\n",
    "* Write a small script converting CSV to Parquet.\n",
    "\n",
    "---"
   ]
  },
  {
   "cell_type": "code",
   "execution_count": null,
   "id": "650d2619",
   "metadata": {},
   "outputs": [],
   "source": []
  },
  {
   "cell_type": "markdown",
   "id": "e3b0e45d",
   "metadata": {},
   "source": [
    "\n",
    "> ## Practice"
   ]
  },
  {
   "cell_type": "code",
   "execution_count": null,
   "id": "92122789",
   "metadata": {},
   "outputs": [],
   "source": []
  },
  {
   "cell_type": "markdown",
   "id": "d002acae",
   "metadata": {},
   "source": [
    "---\n",
    "\n",
    "### **Day 5: Visualization**\n",
    "\n",
    "**Topics:**\n",
    "\n",
    "* `matplotlib` basics (figure, axes, labels, grids)\n",
    "* `seaborn` for statistical plots (boxplot, heatmap, KDE, pairplot)\n",
    "* Styling plots (themes, palettes)\n",
    "* Save/export charts\n",
    "\n",
    "**Practice:**\n",
    "\n",
    "* Visualize the dataset you created on Day 4.\n",
    "* Write a function that saves 3 charts with consistent styling.\n",
    "\n",
    "---"
   ]
  },
  {
   "cell_type": "code",
   "execution_count": null,
   "id": "5f6f088a",
   "metadata": {},
   "outputs": [],
   "source": []
  },
  {
   "cell_type": "markdown",
   "id": "5676900e",
   "metadata": {},
   "source": [
    "\n",
    "> ## Practice"
   ]
  },
  {
   "cell_type": "code",
   "execution_count": null,
   "id": "d3ca4bd2",
   "metadata": {},
   "outputs": [],
   "source": []
  },
  {
   "cell_type": "markdown",
   "id": "3f0ecd71",
   "metadata": {},
   "source": [
    "---\n",
    "\n",
    "### **Day 6: Packaging & Environment Setup**\n",
    "\n",
    "**Topics:**\n",
    "\n",
    "* `virtualenv`, `pip`, `pip freeze`\n",
    "* `requirements.txt` vs `Pipfile` vs `pyproject.toml`\n",
    "* Building simple Python packages (`setup.py`, `__init__.py`)\n",
    "* Using `argparse` or `click` for CLI scripts\n",
    "\n",
    "**Practice:**\n",
    "\n",
    "* Package a utility function (e.g., logger or data loader) into a local pip-installable package.\n",
    "* Create a CLI tool to run your data pipeline.\n",
    "\n",
    "---"
   ]
  },
  {
   "cell_type": "code",
   "execution_count": null,
   "id": "64755e16",
   "metadata": {},
   "outputs": [],
   "source": []
  },
  {
   "cell_type": "markdown",
   "id": "b92aee74",
   "metadata": {},
   "source": [
    "\n",
    "> ## Practice"
   ]
  },
  {
   "cell_type": "code",
   "execution_count": null,
   "id": "f49b730b",
   "metadata": {},
   "outputs": [],
   "source": []
  },
  {
   "cell_type": "markdown",
   "id": "7972d76d",
   "metadata": {},
   "source": [
    "---\n",
    "\n",
    "### **Day 7: Capstone Mini-Project**\n",
    "\n",
    "**Build a mini end-to-end script:**\n",
    "\n",
    "**Problem Statement Example:**\n",
    "\n",
    "> \"Read messy CSV → Clean & transform (handle nulls, parse dates) → Save as Parquet → Visualize summary → Log each step.\"\n",
    "\n",
    "**Deliverable:**\n",
    "\n",
    "* Use OOP or functional design as you prefer.\n",
    "* Log process, handle exceptions gracefully.\n",
    "* Save both plots and data.\n",
    "* Package the tool as a CLI command.\n",
    "\n",
    "---"
   ]
  },
  {
   "cell_type": "code",
   "execution_count": null,
   "id": "49a3b799",
   "metadata": {},
   "outputs": [],
   "source": []
  },
  {
   "cell_type": "markdown",
   "id": "0bd75304",
   "metadata": {},
   "source": [
    "\n",
    "> ## Practice"
   ]
  },
  {
   "cell_type": "code",
   "execution_count": null,
   "id": "5329a7f0",
   "metadata": {},
   "outputs": [],
   "source": []
  },
  {
   "cell_type": "markdown",
   "id": "a8bc8707",
   "metadata": {},
   "source": [
    "---\n",
    "---\n",
    "\n",
    "## **Bonus (Optional)**\n",
    "\n",
    "If you finish early:\n",
    "\n",
    "* Review `asyncio` basics for I/O-bound tasks.\n",
    "* Explore `pydantic` for data validation (aligns well with LLM/NLP pipeline work).\n",
    "\n",
    "---\n",
    "\n",
    "### **Output by End of Week:**\n",
    "\n",
    "* Solid grip over Python advanced features\n",
    "* 1–2 reusable utilities or packages\n",
    "* 1 mini end-to-end script (data + viz + logs + CLI)\n",
    "\n",
    "---\n",
    "---"
   ]
  },
  {
   "cell_type": "markdown",
   "id": "e75d440f",
   "metadata": {},
   "source": []
  }
 ],
 "metadata": {
  "kernelspec": {
   "display_name": "Python 3",
   "language": "python",
   "name": "python3"
  },
  "language_info": {
   "codemirror_mode": {
    "name": "ipython",
    "version": 3
   },
   "file_extension": ".py",
   "mimetype": "text/x-python",
   "name": "python",
   "nbconvert_exporter": "python",
   "pygments_lexer": "ipython3",
   "version": "3.10.0"
  }
 },
 "nbformat": 4,
 "nbformat_minor": 5
}
